{
 "cells": [
  {
   "cell_type": "markdown",
   "id": "df2b1da5",
   "metadata": {},
   "source": [
    "## Soru 1       "
   ]
  },
  {
   "cell_type": "markdown",
   "id": "7751032d",
   "metadata": {},
   "source": [
    "1- Bir listeyi düzleştiren (flatten) fonksiyon yazın. Elemanları birden çok katmanlı listelerden ([[3],2] gibi) oluşabileceği gibi, non-scalar verilerden de oluşabilir. Örnek olarak:\n",
    "\n",
    "input: [[1,'a',['cat'],2],[[[3]],'dog'],4,5]\n",
    "\n",
    "output: [1,'a','cat',2,3,'dog',4,5]"
   ]
  },
  {
   "cell_type": "code",
   "execution_count": 65,
   "id": "32ec2190",
   "metadata": {},
   "outputs": [],
   "source": [
    "l=[[1,'a',['cat'],2],[[[3]],'dog'],4,5]"
   ]
  },
  {
   "cell_type": "code",
   "execution_count": 66,
   "id": "9e164f04",
   "metadata": {},
   "outputs": [],
   "source": [
    "def flatten(a_list):\n",
    "    flat_list=[]\n",
    "    for i in a_list:\n",
    "        if type(i) is list:\n",
    "            for x in i:\n",
    "                if type(x) is list:\n",
    "                    for a in x:\n",
    "                        if type(a) is list:\n",
    "                            for y in a:\n",
    "                                flat_list.append(y)\n",
    "                        else:\n",
    "                            flat_list.append(a)\n",
    "                else:\n",
    "                    flat_list.append(x)\n",
    "        else:\n",
    "            flat_list.append(i)\n",
    "    return flat_list"
   ]
  },
  {
   "cell_type": "code",
   "execution_count": 67,
   "id": "460da0d9",
   "metadata": {},
   "outputs": [
    {
     "data": {
      "text/plain": [
       "[1, 'a', 'cat', 2, 3, 'dog', 4, 5]"
      ]
     },
     "execution_count": 67,
     "metadata": {},
     "output_type": "execute_result"
    }
   ],
   "source": [
    "flatten(l)"
   ]
  },
  {
   "cell_type": "markdown",
   "id": "09d11197",
   "metadata": {},
   "source": [
    "## Soru 2"
   ]
  },
  {
   "cell_type": "markdown",
   "id": "bf5e0f91",
   "metadata": {},
   "source": [
    "2- Verilen listenin içindeki elemanları tersine döndüren bir fonksiyon yazın. Eğer listenin içindeki elemanlar da liste içeriyorsa onların elemanlarını da tersine döndürün. Örnek olarak:\n",
    "\n",
    "input: [[1, 2], [3, 4], [5, 6, 7]]\n",
    "\n",
    "output: [[[7, 6, 5], [4, 3], [2, 1]]"
   ]
  },
  {
   "cell_type": "code",
   "execution_count": 72,
   "id": "a8307764",
   "metadata": {},
   "outputs": [],
   "source": [
    "l=[[1, 2], [3, 4], [5, 6, 7]]"
   ]
  },
  {
   "cell_type": "code",
   "execution_count": 69,
   "id": "4514acdc",
   "metadata": {},
   "outputs": [],
   "source": [
    "l.reverse()"
   ]
  },
  {
   "cell_type": "code",
   "execution_count": 70,
   "id": "f0152ab3",
   "metadata": {},
   "outputs": [
    {
     "data": {
      "text/plain": [
       "[[5, 6, 7], [3, 4], [1, 2]]"
      ]
     },
     "execution_count": 70,
     "metadata": {},
     "output_type": "execute_result"
    }
   ],
   "source": [
    "l"
   ]
  },
  {
   "cell_type": "code",
   "execution_count": 88,
   "id": "eeb9446e",
   "metadata": {},
   "outputs": [],
   "source": [
    "def reverse_list(l):\n",
    "    for i in l:\n",
    "        l.reverse()\n",
    "        if type(i) is list:\n",
    "            i=i.reverse()\n",
    "    \n",
    "    return l"
   ]
  },
  {
   "cell_type": "code",
   "execution_count": 89,
   "id": "3216882b",
   "metadata": {},
   "outputs": [
    {
     "data": {
      "text/plain": [
       "[[7, 6, 5], [4, 3], [2, 1]]"
      ]
     },
     "execution_count": 89,
     "metadata": {},
     "output_type": "execute_result"
    }
   ],
   "source": [
    "reverse_list(l)"
   ]
  }
 ],
 "metadata": {
  "kernelspec": {
   "display_name": "Python 3 (ipykernel)",
   "language": "python",
   "name": "python3"
  },
  "language_info": {
   "codemirror_mode": {
    "name": "ipython",
    "version": 3
   },
   "file_extension": ".py",
   "mimetype": "text/x-python",
   "name": "python",
   "nbconvert_exporter": "python",
   "pygments_lexer": "ipython3",
   "version": "3.9.7"
  }
 },
 "nbformat": 4,
 "nbformat_minor": 5
}
